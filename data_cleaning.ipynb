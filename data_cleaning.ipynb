{
  "nbformat": 4,
  "nbformat_minor": 0,
  "metadata": {
    "colab": {
      "provenance": [],
      "authorship_tag": "ABX9TyMDKHLdv+Y96FOxuijU3zr0",
      "include_colab_link": true
    },
    "kernelspec": {
      "name": "python3",
      "display_name": "Python 3"
    },
    "language_info": {
      "name": "python"
    }
  },
  "cells": [
    {
      "cell_type": "markdown",
      "metadata": {
        "id": "view-in-github",
        "colab_type": "text"
      },
      "source": [
        "<a href=\"https://colab.research.google.com/github/nikhil991gupta/Data-Analysis/blob/main/data_cleaning.ipynb\" target=\"_parent\"><img src=\"https://colab.research.google.com/assets/colab-badge.svg\" alt=\"Open In Colab\"/></a>"
      ]
    },
    {
      "cell_type": "code",
      "execution_count": 1,
      "metadata": {
        "id": "n-VzENiuvLLY"
      },
      "outputs": [],
      "source": [
        "import pandas as pd\n"
      ]
    },
    {
      "cell_type": "code",
      "source": [
        "df = pd.read_csv('data.csv')\n"
      ],
      "metadata": {
        "id": "K0v9xn6byOwd"
      },
      "execution_count": 2,
      "outputs": []
    },
    {
      "cell_type": "code",
      "source": [
        "missing_values = df.isnull().sum()\n"
      ],
      "metadata": {
        "id": "f0LVIX8qyYhi"
      },
      "execution_count": 3,
      "outputs": []
    },
    {
      "cell_type": "code",
      "source": [
        "print(\"Original Columns:\", df.columns)\n"
      ],
      "metadata": {
        "colab": {
          "base_uri": "https://localhost:8080/"
        },
        "id": "jpIBy0MIycN-",
        "outputId": "72f6adfc-64d6-41d0-924b-df4a62f1346c"
      },
      "execution_count": 5,
      "outputs": [
        {
          "output_type": "stream",
          "name": "stdout",
          "text": [
            "Original Columns: Index(['order_id', 'order_date', 'sku_id', 'product_name', 'final_ak_price',\n",
            "       'units_sold', 'quantity', 'customer_id', 'placed_gmv'],\n",
            "      dtype='object')\n"
          ]
        }
      ]
    },
    {
      "cell_type": "code",
      "source": [
        "df.columns = df.columns.str.strip().str.lower().str.replace(' ', '_')\n"
      ],
      "metadata": {
        "id": "XnDX3Dgjy1NG"
      },
      "execution_count": 6,
      "outputs": []
    },
    {
      "cell_type": "code",
      "source": [
        "print(\"Cleaned Columns:\", df.columns)\n"
      ],
      "metadata": {
        "colab": {
          "base_uri": "https://localhost:8080/"
        },
        "id": "ilccv2JKy4mH",
        "outputId": "dbd0f984-1c7b-4d67-ea2d-b306df995993"
      },
      "execution_count": 7,
      "outputs": [
        {
          "output_type": "stream",
          "name": "stdout",
          "text": [
            "Cleaned Columns: Index(['order_id', 'order_date', 'sku_id', 'product_name', 'final_ak_price',\n",
            "       'units_sold', 'quantity', 'customer_id', 'placed_gmv'],\n",
            "      dtype='object')\n"
          ]
        }
      ]
    },
    {
      "cell_type": "code",
      "source": [
        "print(\"Missing values:\\n\", df.isnull().sum())\n"
      ],
      "metadata": {
        "colab": {
          "base_uri": "https://localhost:8080/"
        },
        "id": "18UYeZ1Zy8bp",
        "outputId": "79a317ff-3d5b-442d-f585-855accca7dc1"
      },
      "execution_count": 8,
      "outputs": [
        {
          "output_type": "stream",
          "name": "stdout",
          "text": [
            "Missing values:\n",
            " order_id          0\n",
            "order_date        0\n",
            "sku_id            0\n",
            "product_name      0\n",
            "final_ak_price    0\n",
            "units_sold        0\n",
            "quantity          0\n",
            "customer_id       0\n",
            "placed_gmv        0\n",
            "dtype: int64\n"
          ]
        }
      ]
    },
    {
      "cell_type": "code",
      "source": [
        "numeric_columns = ['final_ak_price', 'units_sold', 'quantity', 'placed_gmv']\n"
      ],
      "metadata": {
        "id": "c4gxi9ziy_rp"
      },
      "execution_count": 12,
      "outputs": []
    },
    {
      "cell_type": "code",
      "source": [
        "df[numeric_columns] = df[numeric_columns].apply(pd.to_numeric, errors='coerce')\n"
      ],
      "metadata": {
        "id": "Z79FjSOzzGV8"
      },
      "execution_count": 13,
      "outputs": []
    },
    {
      "cell_type": "code",
      "source": [
        "df[numeric_columns] = df[numeric_columns].fillna(df[numeric_columns].median())\n"
      ],
      "metadata": {
        "id": "oHEXx4hMzZWp"
      },
      "execution_count": 14,
      "outputs": []
    },
    {
      "cell_type": "code",
      "source": [
        "df['order_date'] = pd.to_datetime(df['order_date'], errors='coerce')\n"
      ],
      "metadata": {
        "id": "fIy8OMWwzcoD"
      },
      "execution_count": 15,
      "outputs": []
    },
    {
      "cell_type": "code",
      "source": [
        "df = df[(df['final_ak_price'] > 0) & (df['units_sold'] > 0) & (df['quantity'] > 0)]\n"
      ],
      "metadata": {
        "id": "CJtYguNSzgNf"
      },
      "execution_count": 16,
      "outputs": []
    },
    {
      "cell_type": "code",
      "source": [
        "df['calculated_gmv'] = df['final_ak_price'] * df['units_sold'] * df['quantity']\n"
      ],
      "metadata": {
        "id": "qhVg8iL9zlmr"
      },
      "execution_count": 17,
      "outputs": []
    },
    {
      "cell_type": "code",
      "source": [
        "df = df[df['placed_gmv'] == df['calculated_gmv']]\n"
      ],
      "metadata": {
        "id": "dIWkCheIzqHO"
      },
      "execution_count": 18,
      "outputs": []
    },
    {
      "cell_type": "code",
      "source": [
        "df.drop(columns=['calculated_gmv'], inplace=True)\n"
      ],
      "metadata": {
        "id": "JMHfqHWVztfE"
      },
      "execution_count": 19,
      "outputs": []
    },
    {
      "cell_type": "code",
      "source": [
        "df.to_csv('cleaned_dataset.csv', index=False)\n"
      ],
      "metadata": {
        "id": "SNKW_fR2zz1-"
      },
      "execution_count": 20,
      "outputs": []
    },
    {
      "cell_type": "code",
      "source": [
        "print(\"Cleaned data preview:\\n\", df.head())\n"
      ],
      "metadata": {
        "colab": {
          "base_uri": "https://localhost:8080/"
        },
        "id": "iJKgyQBwz1N4",
        "outputId": "11040d71-ddda-4d78-f5f7-c543036db763"
      },
      "execution_count": 21,
      "outputs": [
        {
          "output_type": "stream",
          "name": "stdout",
          "text": [
            "Cleaned data preview:\n",
            "    order_id          order_date      sku_id  \\\n",
            "1    119566 2022-05-05 11:47:05  622854da66   \n",
            "2    119566 2022-05-05 11:47:05  61d439f99a   \n",
            "3    119566 2022-05-05 11:47:05  60dec56d3e   \n",
            "4    119566 2022-05-05 11:47:05  61021fdb38   \n",
            "5    119566 2022-05-05 11:47:05  6107de458b   \n",
            "\n",
            "                                        product_name  final_ak_price  \\\n",
            "1     Navratna Extra Thanda Ayurvedic Hair Oil 2.5ml            0.69   \n",
            "2                           Dabur Amla Hair Oil 30ml            8.28   \n",
            "3    Garnier Bright Complete Vitamin C Face Wash 50g           61.34   \n",
            "4           Patanjali's Saundarya Aloe Vera Gel 60ml           38.52   \n",
            "5  Oxylife Natural Radiance 5 Creme Bleach With A...           35.79   \n",
            "\n",
            "   units_sold  quantity  customer_id  placed_gmv  \n",
            "1         240         2        99710      331.20  \n",
            "2          20         1        99710      165.60  \n",
            "3           6         1        99710      368.04  \n",
            "4          12         2        99710      924.48  \n",
            "5          12         1        99710      429.48  \n"
          ]
        }
      ]
    },
    {
      "cell_type": "code",
      "source": [
        "!pip install pandasql\n"
      ],
      "metadata": {
        "colab": {
          "base_uri": "https://localhost:8080/"
        },
        "id": "AwIVlAyH0EDi",
        "outputId": "6e57fbe7-e78b-4902-8d94-4b4665d2e702"
      },
      "execution_count": 22,
      "outputs": [
        {
          "output_type": "stream",
          "name": "stdout",
          "text": [
            "Collecting pandasql\n",
            "  Downloading pandasql-0.7.3.tar.gz (26 kB)\n",
            "  Preparing metadata (setup.py) ... \u001b[?25l\u001b[?25hdone\n",
            "Requirement already satisfied: numpy in /usr/local/lib/python3.10/dist-packages (from pandasql) (1.26.4)\n",
            "Requirement already satisfied: pandas in /usr/local/lib/python3.10/dist-packages (from pandasql) (2.1.4)\n",
            "Requirement already satisfied: sqlalchemy in /usr/local/lib/python3.10/dist-packages (from pandasql) (2.0.35)\n",
            "Requirement already satisfied: python-dateutil>=2.8.2 in /usr/local/lib/python3.10/dist-packages (from pandas->pandasql) (2.8.2)\n",
            "Requirement already satisfied: pytz>=2020.1 in /usr/local/lib/python3.10/dist-packages (from pandas->pandasql) (2024.2)\n",
            "Requirement already satisfied: tzdata>=2022.1 in /usr/local/lib/python3.10/dist-packages (from pandas->pandasql) (2024.1)\n",
            "Requirement already satisfied: typing-extensions>=4.6.0 in /usr/local/lib/python3.10/dist-packages (from sqlalchemy->pandasql) (4.12.2)\n",
            "Requirement already satisfied: greenlet!=0.4.17 in /usr/local/lib/python3.10/dist-packages (from sqlalchemy->pandasql) (3.1.0)\n",
            "Requirement already satisfied: six>=1.5 in /usr/local/lib/python3.10/dist-packages (from python-dateutil>=2.8.2->pandas->pandasql) (1.16.0)\n",
            "Building wheels for collected packages: pandasql\n",
            "  Building wheel for pandasql (setup.py) ... \u001b[?25l\u001b[?25hdone\n",
            "  Created wheel for pandasql: filename=pandasql-0.7.3-py3-none-any.whl size=26772 sha256=0fc875342898c5daffc4668b232252709453125729550f60f4193ce7cba18c6f\n",
            "  Stored in directory: /root/.cache/pip/wheels/e9/bc/3a/8434bdcccf5779e72894a9b24fecbdcaf97940607eaf4bcdf9\n",
            "Successfully built pandasql\n",
            "Installing collected packages: pandasql\n",
            "Successfully installed pandasql-0.7.3\n"
          ]
        }
      ]
    },
    {
      "cell_type": "code",
      "source": [
        "import pandas as pd\n",
        "import pandasql as ps\n"
      ],
      "metadata": {
        "id": "0w3VH9ug0G9S"
      },
      "execution_count": 23,
      "outputs": []
    },
    {
      "cell_type": "code",
      "source": [
        "df = pd.read_csv('cleaned_dataset.csv')\n"
      ],
      "metadata": {
        "id": "8h5gHQgb0Mye"
      },
      "execution_count": 24,
      "outputs": []
    },
    {
      "cell_type": "code",
      "source": [
        "def run_query(query):\n",
        "    return ps.sqldf(query, globals())\n",
        "\n",
        "# Example SQL Query 1: Find the average order value, total number of orders, first order date, last order date, first order value, and last order value of a customer\n",
        "query1 = \"\"\"\n",
        "    SELECT\n",
        "        customer_id,\n",
        "        AVG(placed_gmv) AS avg_order_value,\n",
        "        COUNT(order_id) AS total_orders,\n",
        "        MIN(order_date) AS first_order_date,\n",
        "        MAX(order_date) AS last_order_date,\n",
        "        (SELECT placed_gmv FROM df WHERE customer_id = t.customer_id ORDER BY order_date ASC LIMIT 1) AS first_order_value,\n",
        "        (SELECT placed_gmv FROM df WHERE customer_id = t.customer_id ORDER BY order_date DESC LIMIT 1) AS last_order_value\n",
        "    FROM df t\n",
        "    GROUP BY customer_id\n",
        "\"\"\"\n",
        "\n",
        "result1 = run_query(query1)\n",
        "print(result1)"
      ],
      "metadata": {
        "colab": {
          "base_uri": "https://localhost:8080/"
        },
        "id": "Fj8HrL7O0N9b",
        "outputId": "121e0953-3a9e-45d7-ba6a-358c7bc476ab"
      },
      "execution_count": 25,
      "outputs": [
        {
          "output_type": "stream",
          "name": "stdout",
          "text": [
            "     customer_id  avg_order_value  total_orders     first_order_date  \\\n",
            "0            376         2435.856             5  2022-05-07 16:49:10   \n",
            "1            750          337.680             2  2022-05-13 09:01:42   \n",
            "2           1209         2138.400             1  2022-05-04 11:23:59   \n",
            "3           1957         2671.300             3  2022-05-25 23:31:33   \n",
            "4           2349         1122.360             2  2022-05-18 10:27:15   \n",
            "..           ...              ...           ...                  ...   \n",
            "944       132137         1260.000             2  2022-06-20 14:01:50   \n",
            "945       132428         1198.500             2  2022-06-21 19:34:19   \n",
            "946       133057         2848.000             1  2022-06-21 23:40:57   \n",
            "947       133647         5190.000             1  2022-06-23 13:15:11   \n",
            "948       133801         5337.000             1  2022-06-23 10:39:47   \n",
            "\n",
            "         last_order_date  first_order_value  last_order_value  \n",
            "0    2022-05-13 22:46:40            1156.68           5220.00  \n",
            "1    2022-05-13 09:01:42             225.36            225.36  \n",
            "2    2022-05-04 11:23:59            2138.40           2138.40  \n",
            "3    2022-06-01 17:23:13            3000.00           2403.90  \n",
            "4    2022-05-18 10:27:15            2130.00           2130.00  \n",
            "..                   ...                ...               ...  \n",
            "944  2022-06-20 14:01:50            1680.00           1680.00  \n",
            "945  2022-06-21 19:34:19             840.00            840.00  \n",
            "946  2022-06-21 23:40:57            2848.00           2848.00  \n",
            "947  2022-06-23 13:15:11            5190.00           5190.00  \n",
            "948  2022-06-23 10:39:47            5337.00           5337.00  \n",
            "\n",
            "[949 rows x 7 columns]\n"
          ]
        }
      ]
    },
    {
      "cell_type": "code",
      "source": [
        "# Example SQL Query 2: List the top 20 products in the Popular Products category based on units sold\n",
        "query2 = \"\"\"\n",
        "    SELECT\n",
        "        product_name,\n",
        "        SUM(units_sold) AS total_units_sold\n",
        "    FROM df\n",
        "    GROUP BY product_name\n",
        "    ORDER BY total_units_sold DESC\n",
        "    LIMIT 20\n",
        "\"\"\"\n",
        "\n",
        "result2 = run_query(query2)\n",
        "print(result2)\n"
      ],
      "metadata": {
        "colab": {
          "base_uri": "https://localhost:8080/"
        },
        "id": "sQrjQAro0SLi",
        "outputId": "c27dfe79-71ed-46bc-a1ee-550e953014f3"
      },
      "execution_count": 26,
      "outputs": [
        {
          "output_type": "stream",
          "name": "stdout",
          "text": [
            "                                         product_name  total_units_sold\n",
            "0              Navratna Cool Ayurvedic Hair Oil 2.7ml              4704\n",
            "1      Navratna Extra Thanda Ayurvedic Hair Oil 2.5ml              3360\n",
            "2                    Dettol Original Bathing Soap 40g              3091\n",
            "3           Surf Excel Easy Wash Detergent Powder 80g              2436\n",
            "4   Head & Shoulders Anti Dandruff 2in1 Shampoo pl...              2400\n",
            "5                       Bru Instant Coffee Pouch 2.2g              2304\n",
            "6                          Kissan Mixed Fruit Jam 11g              1920\n",
            "7   Set Wet Styling Gel Gravity Resist Vertical Ho...              1512\n",
            "8         Closeup Everfresh+ Triple Fresh Formula 23g              1296\n",
            "9          Cadbury Oreo Original Vanilla Creme  46.3g              1128\n",
            "10                            MamyPoko Pants Small 1U              1080\n",
            "11             Kissan Chotu Fresh Tomato Ketchup 130g              1020\n",
            "12                                Prabhuji Bhujia 32g               920\n",
            "13      Everyuth Naturals Exfoliating Walnut Scrub 7g               920\n",
            "14            Cadbury Oreo Choco Creme Biscuits 46.3g               900\n",
            "15  Dermi Cool Prickly Heat Powder 150g + Dettol C...               841\n",
            "16  Glow & Lovely Instant Glow With Brightening Mu...               804\n",
            "17                    Nihar Shanti Amla Hair Oil 75ml               780\n",
            "18                  Parle Mazelo Assorted Toffee 198g               769\n",
            "19                         Parachute Coconut Oil 45ml               768\n"
          ]
        }
      ]
    },
    {
      "cell_type": "code",
      "source": [
        "# Example SQL Query 3: Find the top 3 articles for each customer in terms of placed_gmv\n",
        "query3 = \"\"\"\n",
        "    SELECT *\n",
        "    FROM (\n",
        "        SELECT\n",
        "            customer_id,\n",
        "            product_name,\n",
        "            placed_gmv,\n",
        "            ROW_NUMBER() OVER (PARTITION BY customer_id ORDER BY placed_gmv DESC) AS rank\n",
        "        FROM df\n",
        "    ) ranked\n",
        "    WHERE rank <= 3\n",
        "\"\"\"\n",
        "\n",
        "result3 = run_query(query3)\n",
        "print(result3)"
      ],
      "metadata": {
        "colab": {
          "base_uri": "https://localhost:8080/"
        },
        "id": "VDop_web0VMM",
        "outputId": "c9453f26-feea-4f50-da84-9165ad442f09"
      },
      "execution_count": 27,
      "outputs": [
        {
          "output_type": "stream",
          "name": "stdout",
          "text": [
            "      customer_id                                    product_name  placed_gmv  \\\n",
            "0             376              Tata Tea Premium India ki Chai 1kg     5220.00   \n",
            "1             376              Tata Tea Premium India ki Chai 1kg     3480.00   \n",
            "2             376  Odonil Bathroom Air Freshener 200g Buy 3 Get 1     1482.60   \n",
            "3             750         Mai Ghar Disinfectant Toilet Cleaner 1L      450.00   \n",
            "4             750                      Surf Excel Mineral Bar 84g      225.36   \n",
            "...           ...                                             ...         ...   \n",
            "2162       132428         Lizol Disinfectant Cleaner Citrus 500ml     1557.00   \n",
            "2163       132428                       Dabur Red Paste 12U X 42g      840.00   \n",
            "2164       133057        Clinic Plus Strong & Long Sachet 960X6ml     2848.00   \n",
            "2165       133647              Tata Tea Premium India ki Chai 1kg     5190.00   \n",
            "2166       133801      Surf Excel Easy Wash Detergent Powder 500g     5337.00   \n",
            "\n",
            "      rank  \n",
            "0        1  \n",
            "1        2  \n",
            "2        3  \n",
            "3        1  \n",
            "4        2  \n",
            "...    ...  \n",
            "2162     1  \n",
            "2163     2  \n",
            "2164     1  \n",
            "2165     1  \n",
            "2166     1  \n",
            "\n",
            "[2167 rows x 4 columns]\n"
          ]
        }
      ]
    }
  ]
}